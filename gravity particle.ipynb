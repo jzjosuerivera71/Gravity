{
 "cells": [
  {
   "cell_type": "code",
   "execution_count": 1,
   "metadata": {},
   "outputs": [],
   "source": [
    "from sympy.physics.mechanics import Particle, Point, ReferenceFrame\n",
    "from sympy import symbols\n",
    "from sympy.physics.units.definitions.unit_definitions import G\n",
    "from sympy.physics.vector import Vector"
   ]
  },
  {
   "cell_type": "code",
   "execution_count": 2,
   "metadata": {},
   "outputs": [],
   "source": [
    "m1, m2, m3, m4, m5 = symbols('m1 m2 m3 m4 m5')\n",
    "N = ReferenceFrame('N')"
   ]
  },
  {
   "cell_type": "markdown",
   "metadata": {},
   "source": [
    "# 2 Particle System"
   ]
  },
  {
   "cell_type": "code",
   "execution_count": 3,
   "metadata": {},
   "outputs": [],
   "source": [
    "O1 = Point('O1')\n",
    "P1 = Particle('P1', O1, m1)\n",
    "O2 = Point('O2')\n",
    "O2.set_pos(O1, 10 * N.x)\n",
    "P2 = Particle('P2', O2, m2)"
   ]
  },
  {
   "cell_type": "code",
   "execution_count": 4,
   "metadata": {},
   "outputs": [],
   "source": [
    "disp = P2.point.pos_from(P1.point)"
   ]
  },
  {
   "cell_type": "markdown",
   "metadata": {},
   "source": [
    "Total Gravitational Force acting on P1"
   ]
  },
  {
   "cell_type": "code",
   "execution_count": 5,
   "metadata": {},
   "outputs": [
    {
     "data": {
      "text/latex": [
       "$\\displaystyle \\frac{m_{1} m_{2} \\text{G}}{100}\\mathbf{\\hat{n}_x}$"
      ],
      "text/plain": [
       "gravitational_constant*m1*m2/100*N.x"
      ]
     },
     "execution_count": 5,
     "metadata": {},
     "output_type": "execute_result"
    }
   ],
   "source": [
    "gforce = ((P1.mass * P2.mass * G) / disp.magnitude() ** 3) * disp\n",
    "gforce"
   ]
  },
  {
   "cell_type": "markdown",
   "metadata": {},
   "source": [
    "# 3 Particle System"
   ]
  },
  {
   "cell_type": "code",
   "execution_count": 6,
   "metadata": {},
   "outputs": [],
   "source": [
    "O1 = Point('O1')\n",
    "P1 = Particle('P1', O1, m1)\n",
    "O2 = Point('O2')\n",
    "O2.set_pos(O1, 10 * N.x)\n",
    "P2 = Particle('P2', O2, m2)\n",
    "O3 = Point('O3')\n",
    "O3.set_pos(O1, -10 * N.x)\n",
    "P3 = Particle('P3', O3, m2)"
   ]
  },
  {
   "cell_type": "code",
   "execution_count": 7,
   "metadata": {},
   "outputs": [],
   "source": [
    "disp1 = P2.point.pos_from(P1.point)\n",
    "disp2 = P3.point.pos_from(P1.point)"
   ]
  },
  {
   "cell_type": "markdown",
   "metadata": {},
   "source": [
    "Total Gravitaional Force on Point 1 due to Point 2 and Point 3"
   ]
  },
  {
   "cell_type": "code",
   "execution_count": 8,
   "metadata": {},
   "outputs": [
    {
     "name": "stdout",
     "output_type": "stream",
     "text": [
      "gravitational_constant*m1*m2/100*N.x\n",
      "- gravitational_constant*m1*m2/100*N.x\n"
     ]
    }
   ],
   "source": [
    "gforce12 = ((P1.mass * P2.mass * G) / disp1.magnitude() ** 3) * disp1\n",
    "print(gforce12)\n",
    "gforce13 = ((P1.mass * P3.mass * G) / disp2.magnitude() ** 3) * disp2\n",
    "print(gforce13)"
   ]
  },
  {
   "cell_type": "code",
   "execution_count": 9,
   "metadata": {},
   "outputs": [
    {
     "data": {
      "text/latex": [
       "$\\displaystyle 0$"
      ],
      "text/plain": [
       "0"
      ]
     },
     "execution_count": 9,
     "metadata": {},
     "output_type": "execute_result"
    }
   ],
   "source": [
    "total_force = gforce12 + gforce13\n",
    "total_force"
   ]
  },
  {
   "cell_type": "markdown",
   "metadata": {},
   "source": [
    "# For N Particle System"
   ]
  },
  {
   "cell_type": "code",
   "execution_count": 10,
   "metadata": {},
   "outputs": [],
   "source": [
    "def gforce(particle,*particles):\n",
    "    total_gforce = Vector(0)\n",
    "    for p in particles:\n",
    "        disp = p.point.pos_from(particle.point)\n",
    "        total_gforce += ( (particle.mass * p.mass * G) / disp.magnitude() ** 3) * disp\n",
    "    return total_gforce"
   ]
  },
  {
   "cell_type": "markdown",
   "metadata": {},
   "source": [
    "Considering 6 particle system"
   ]
  },
  {
   "cell_type": "code",
   "execution_count": 11,
   "metadata": {},
   "outputs": [],
   "source": [
    "O1 = Point('O1')\n",
    "P1 = Particle('P1', O1, m1)\n",
    "O2 = Point('O2')\n",
    "O2.set_pos(O1, 10 * N.x)\n",
    "P2 = Particle('P2', O2, m2)\n",
    "O3 = Point('O3')\n",
    "O3.set_pos(O1, -10 * N.x + 50 * N.y + 0.5 * N.z)\n",
    "P3 = Particle('P3', O3, m3)\n",
    "O4 = Point('O4')\n",
    "O4.set_pos(O1, -10 * N.x)\n",
    "P4 = Particle('P4', O4, m2)\n",
    "O5 = Point('O5')\n",
    "O5.set_pos(O1, 10 * N.x - 50 * N.y - 0.5 * N.z)\n",
    "P5 = Particle('P5', O5, m3)\n",
    "O6 = Point('O6')\n",
    "O6.set_pos(O1, 1 * N.x + 2 * N.y + 2 * N.z)\n",
    "P6 = Particle('P6', O6, m4)"
   ]
  },
  {
   "cell_type": "markdown",
   "metadata": {},
   "source": [
    "Total Gravitational Force on P1 due to P2, P3....,P6"
   ]
  },
  {
   "cell_type": "code",
   "execution_count": 12,
   "metadata": {},
   "outputs": [
    {
     "data": {
      "text/latex": [
       "$\\displaystyle \\frac{m_{1} m_{4} \\text{G}}{27}\\mathbf{\\hat{n}_x} + \\frac{2 m_{1} m_{4} \\text{G}}{27}\\mathbf{\\hat{n}_y} + \\frac{2 m_{1} m_{4} \\text{G}}{27}\\mathbf{\\hat{n}_z}$"
      ],
      "text/plain": [
       "gravitational_constant*m1*m4/27*N.x + 2*gravitational_constant*m1*m4/27*N.y + 2*gravitational_constant*m1*m4/27*N.z"
      ]
     },
     "execution_count": 12,
     "metadata": {},
     "output_type": "execute_result"
    }
   ],
   "source": [
    "tf = gforce(P1 ,P2, P3, P4, P5, P6)\n",
    "tf"
   ]
  }
 ],
 "metadata": {
  "kernelspec": {
   "display_name": "Python 3",
   "language": "python",
   "name": "python3"
  },
  "language_info": {
   "codemirror_mode": {
    "name": "ipython",
    "version": 3
   },
   "file_extension": ".py",
   "mimetype": "text/x-python",
   "name": "python",
   "nbconvert_exporter": "python",
   "pygments_lexer": "ipython3",
   "version": "3.7.7"
  }
 },
 "nbformat": 4,
 "nbformat_minor": 4
}
